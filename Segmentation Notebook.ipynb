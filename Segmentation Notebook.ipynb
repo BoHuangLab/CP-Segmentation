{
 "cells": [
  {
   "cell_type": "code",
   "execution_count": 1,
   "metadata": {
    "ExecuteTime": {
     "end_time": "2020-11-09T19:12:56.846769Z",
     "start_time": "2020-11-09T19:12:56.831165Z"
    }
   },
   "outputs": [],
   "source": [
    " #Specify parent folder containing all images to be segmented.\n",
    "PARENT_PATH = None\n",
    "\n",
    "# Path to OMEXML file. Can ignore if using .ome.tif or .czi\n",
    "METADATA_PATH = None\n",
    "\n",
    "#'nuclei' or 'cyto'\n",
    "FEATURE_TO_SEGMENT = 'nuclei'\n",
    "\n",
    "# define CHANNELS to run segementation on. START AT 1\n",
    "# if you want to combine channels == 'yes', enter all channels\n",
    "# applicable channels in list format\n",
    "\n",
    "#only enter channels to be considered in segmentation\n",
    "#segmentations are calculated on every channel\n",
    "NUCLEI_CHANNELS = [1]\n",
    "CYTO_CHANNELS = []\n",
    "\n",
    "#pixel size of feature\n",
    "#HIGHLY RECOMMENDED YOU ENTER A VALUE. THIS WILL SPEED UP ANALYSIS SIGNIFICANTLY.\n",
    "ESTIMATED_DIAMETER = None"
   ]
  },
  {
   "cell_type": "code",
   "execution_count": 38,
   "metadata": {
    "ExecuteTime": {
     "end_time": "2020-11-09T19:22:39.158026Z",
     "start_time": "2020-11-09T19:22:39.033072Z"
    }
   },
   "outputs": [
    {
     "name": "stdout",
     "output_type": "stream",
     "text": [
      ">>>> using CPU\n",
      "Finding images...\n",
      "Analyzing data in 1 batches...\n",
      "Loaded.\n"
     ]
    }
   ],
   "source": [
    "from models import RunCellpose\n",
    "config = RunCellpose(PARENT_PATH,METADATA_PATH,FEATURE_TO_SEGMENT,NUCLEI_CHANNELS,CYTO_CHANNELS,ESTIMATED_DIAMETER)"
   ]
  },
  {
   "cell_type": "code",
   "execution_count": null,
   "metadata": {},
   "outputs": [],
   "source": [
    "config.segment_images()"
   ]
  }
 ],
 "metadata": {
  "kernelspec": {
   "display_name": "Python 3",
   "language": "python",
   "name": "python3"
  },
  "toc": {
   "base_numbering": 1,
   "nav_menu": {},
   "number_sections": true,
   "sideBar": true,
   "skip_h1_title": false,
   "title_cell": "Table of Contents",
   "title_sidebar": "Contents",
   "toc_cell": false,
   "toc_position": {},
   "toc_section_display": true,
   "toc_window_display": false
  },
  "varInspector": {
   "cols": {
    "lenName": 16,
    "lenType": 16,
    "lenVar": 40
   },
   "kernels_config": {
    "python": {
     "delete_cmd_postfix": "",
     "delete_cmd_prefix": "del ",
     "library": "var_list.py",
     "varRefreshCmd": "print(var_dic_list())"
    },
    "r": {
     "delete_cmd_postfix": ") ",
     "delete_cmd_prefix": "rm(",
     "library": "var_list.r",
     "varRefreshCmd": "cat(var_dic_list()) "
    }
   },
   "types_to_exclude": [
    "module",
    "function",
    "builtin_function_or_method",
    "instance",
    "_Feature"
   ],
   "window_display": false
  }
 },
 "nbformat": 4,
 "nbformat_minor": 2
}
